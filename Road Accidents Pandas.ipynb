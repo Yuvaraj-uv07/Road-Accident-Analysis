{
 "cells": [
  {
   "cell_type": "markdown",
   "id": "1e52366f-7876-4eb9-87cf-d3cd2b1a1eed",
   "metadata": {},
   "source": [
    "# ROAD ACCIDENTS"
   ]
  },
  {
   "cell_type": "markdown",
   "id": "e5955629-0517-4952-ae80-2e6bfc43521a",
   "metadata": {},
   "source": [
    "### Import required libraries"
   ]
  },
  {
   "cell_type": "code",
   "execution_count": 7,
   "id": "c967a795-66ac-4f31-82c9-cad3b8885a8f",
   "metadata": {},
   "outputs": [],
   "source": [
    "import pandas as pd\n",
    "import numpy as np\n",
    "import warnings\n",
    "warnings.filterwarnings('ignore')\n",
    "import matplotlib.pyplot as plt"
   ]
  },
  {
   "cell_type": "markdown",
   "id": "2f6cdbcf-9591-4efd-8ff9-610467a51464",
   "metadata": {},
   "source": [
    "### Read the road_accident data set"
   ]
  },
  {
   "cell_type": "code",
   "execution_count": 8,
   "id": "3bc40156-a3f0-4233-8151-575872affd49",
   "metadata": {},
   "outputs": [],
   "source": [
    "df = pd.read_csv(r'road_accident.csv') # you"
   ]
  },
  {
   "cell_type": "code",
   "execution_count": 9,
   "id": "6a3b2e72-bdee-46c4-9efa-c6b3621ad63a",
   "metadata": {},
   "outputs": [
    {
     "data": {
      "text/html": [
       "<div>\n",
       "<style scoped>\n",
       "    .dataframe tbody tr th:only-of-type {\n",
       "        vertical-align: middle;\n",
       "    }\n",
       "\n",
       "    .dataframe tbody tr th {\n",
       "        vertical-align: top;\n",
       "    }\n",
       "\n",
       "    .dataframe thead th {\n",
       "        text-align: right;\n",
       "    }\n",
       "</style>\n",
       "<table border=\"1\" class=\"dataframe\">\n",
       "  <thead>\n",
       "    <tr style=\"text-align: right;\">\n",
       "      <th></th>\n",
       "      <th>accident_index</th>\n",
       "      <th>accident_date</th>\n",
       "      <th>day_of_week</th>\n",
       "      <th>junction_control</th>\n",
       "      <th>junction_detail</th>\n",
       "      <th>accident_severity</th>\n",
       "      <th>light_conditions</th>\n",
       "      <th>local_authority</th>\n",
       "      <th>carriageway_hazards</th>\n",
       "      <th>number_of_casualties</th>\n",
       "      <th>number_of_vehicles</th>\n",
       "      <th>police_force</th>\n",
       "      <th>road_surface_conditions</th>\n",
       "      <th>road_type</th>\n",
       "      <th>speed_limit</th>\n",
       "      <th>time</th>\n",
       "      <th>urban_or_rural_area</th>\n",
       "      <th>weather_conditions</th>\n",
       "      <th>vehicle_type</th>\n",
       "    </tr>\n",
       "  </thead>\n",
       "  <tbody>\n",
       "    <tr>\n",
       "      <th>0</th>\n",
       "      <td>BS0000001</td>\n",
       "      <td>01-01-2021</td>\n",
       "      <td>Thursday</td>\n",
       "      <td>Give way or uncontrolled</td>\n",
       "      <td>T or staggered junction</td>\n",
       "      <td>Serious</td>\n",
       "      <td>Daylight</td>\n",
       "      <td>Kensington and Chelsea</td>\n",
       "      <td>NaN</td>\n",
       "      <td>1</td>\n",
       "      <td>2</td>\n",
       "      <td>Metropolitan Police</td>\n",
       "      <td>Dry</td>\n",
       "      <td>One way street</td>\n",
       "      <td>30</td>\n",
       "      <td>15:11</td>\n",
       "      <td>Urban</td>\n",
       "      <td>Fine no high winds</td>\n",
       "      <td>Car</td>\n",
       "    </tr>\n",
       "    <tr>\n",
       "      <th>1</th>\n",
       "      <td>BS0000002</td>\n",
       "      <td>05-01-2021</td>\n",
       "      <td>Monday</td>\n",
       "      <td>Give way or uncontrolled</td>\n",
       "      <td>Crossroads</td>\n",
       "      <td>Serious</td>\n",
       "      <td>Daylight</td>\n",
       "      <td>Kensington and Chelsea</td>\n",
       "      <td>NaN</td>\n",
       "      <td>11</td>\n",
       "      <td>2</td>\n",
       "      <td>Metropolitan Police</td>\n",
       "      <td>Wet or damp</td>\n",
       "      <td>Single carriageway</td>\n",
       "      <td>30</td>\n",
       "      <td>10:59</td>\n",
       "      <td>Urban</td>\n",
       "      <td>Fine no high winds</td>\n",
       "      <td>Taxi/Private hire car</td>\n",
       "    </tr>\n",
       "    <tr>\n",
       "      <th>2</th>\n",
       "      <td>BS0000003</td>\n",
       "      <td>04-01-2021</td>\n",
       "      <td>Sunday</td>\n",
       "      <td>Give way or uncontrolled</td>\n",
       "      <td>T or staggered junction</td>\n",
       "      <td>Slight</td>\n",
       "      <td>Daylight</td>\n",
       "      <td>Kensington and Chelsea</td>\n",
       "      <td>NaN</td>\n",
       "      <td>1</td>\n",
       "      <td>2</td>\n",
       "      <td>Metropolitan Police</td>\n",
       "      <td>Dry</td>\n",
       "      <td>Single carriageway</td>\n",
       "      <td>30</td>\n",
       "      <td>14:19</td>\n",
       "      <td>Urban</td>\n",
       "      <td>Fine no high winds</td>\n",
       "      <td>Taxi/Private hire car</td>\n",
       "    </tr>\n",
       "    <tr>\n",
       "      <th>3</th>\n",
       "      <td>BS0000004</td>\n",
       "      <td>05-01-2021</td>\n",
       "      <td>Monday</td>\n",
       "      <td>Auto traffic signal</td>\n",
       "      <td>T or staggered junction</td>\n",
       "      <td>Serious</td>\n",
       "      <td>Daylight</td>\n",
       "      <td>Kensington and Chelsea</td>\n",
       "      <td>NaN</td>\n",
       "      <td>1</td>\n",
       "      <td>2</td>\n",
       "      <td>Metropolitan Police</td>\n",
       "      <td>Frost or ice</td>\n",
       "      <td>Single carriageway</td>\n",
       "      <td>30</td>\n",
       "      <td>8:10</td>\n",
       "      <td>Urban</td>\n",
       "      <td>Other</td>\n",
       "      <td>Motorcycle over 500cc</td>\n",
       "    </tr>\n",
       "    <tr>\n",
       "      <th>4</th>\n",
       "      <td>BS0000005</td>\n",
       "      <td>06-01-2021</td>\n",
       "      <td>Tuesday</td>\n",
       "      <td>Auto traffic signal</td>\n",
       "      <td>Crossroads</td>\n",
       "      <td>Serious</td>\n",
       "      <td>Darkness - lights lit</td>\n",
       "      <td>Kensington and Chelsea</td>\n",
       "      <td>NaN</td>\n",
       "      <td>1</td>\n",
       "      <td>2</td>\n",
       "      <td>Metropolitan Police</td>\n",
       "      <td>Dry</td>\n",
       "      <td>Single carriageway</td>\n",
       "      <td>30</td>\n",
       "      <td>17:25</td>\n",
       "      <td>Urban</td>\n",
       "      <td>Fine no high winds</td>\n",
       "      <td>Car</td>\n",
       "    </tr>\n",
       "    <tr>\n",
       "      <th>...</th>\n",
       "      <td>...</td>\n",
       "      <td>...</td>\n",
       "      <td>...</td>\n",
       "      <td>...</td>\n",
       "      <td>...</td>\n",
       "      <td>...</td>\n",
       "      <td>...</td>\n",
       "      <td>...</td>\n",
       "      <td>...</td>\n",
       "      <td>...</td>\n",
       "      <td>...</td>\n",
       "      <td>...</td>\n",
       "      <td>...</td>\n",
       "      <td>...</td>\n",
       "      <td>...</td>\n",
       "      <td>...</td>\n",
       "      <td>...</td>\n",
       "      <td>...</td>\n",
       "      <td>...</td>\n",
       "    </tr>\n",
       "    <tr>\n",
       "      <th>307968</th>\n",
       "      <td>BS0307969</td>\n",
       "      <td>18-02-2022</td>\n",
       "      <td>Thursday</td>\n",
       "      <td>Data missing or out of range</td>\n",
       "      <td>Not at junction or within 20 metres</td>\n",
       "      <td>Slight</td>\n",
       "      <td>Daylight</td>\n",
       "      <td>Highland</td>\n",
       "      <td>NaN</td>\n",
       "      <td>2</td>\n",
       "      <td>1</td>\n",
       "      <td>Northern</td>\n",
       "      <td>Dry</td>\n",
       "      <td>Single carriageway</td>\n",
       "      <td>60</td>\n",
       "      <td>7:00</td>\n",
       "      <td>Rural</td>\n",
       "      <td>Fine no high winds</td>\n",
       "      <td>Car</td>\n",
       "    </tr>\n",
       "    <tr>\n",
       "      <th>307969</th>\n",
       "      <td>BS0307970</td>\n",
       "      <td>21-02-2022</td>\n",
       "      <td>Sunday</td>\n",
       "      <td>Data missing or out of range</td>\n",
       "      <td>Not at junction or within 20 metres</td>\n",
       "      <td>Slight</td>\n",
       "      <td>Darkness - no lighting</td>\n",
       "      <td>Highland</td>\n",
       "      <td>NaN</td>\n",
       "      <td>1</td>\n",
       "      <td>1</td>\n",
       "      <td>Northern</td>\n",
       "      <td>Frost or ice</td>\n",
       "      <td>Single carriageway</td>\n",
       "      <td>60</td>\n",
       "      <td>3:00</td>\n",
       "      <td>Rural</td>\n",
       "      <td>Fine no high winds</td>\n",
       "      <td>Car</td>\n",
       "    </tr>\n",
       "    <tr>\n",
       "      <th>307970</th>\n",
       "      <td>BS0307971</td>\n",
       "      <td>23-02-2022</td>\n",
       "      <td>Tuesday</td>\n",
       "      <td>Give way or uncontrolled</td>\n",
       "      <td>T or staggered junction</td>\n",
       "      <td>Slight</td>\n",
       "      <td>Daylight</td>\n",
       "      <td>Highland</td>\n",
       "      <td>NaN</td>\n",
       "      <td>1</td>\n",
       "      <td>3</td>\n",
       "      <td>Northern</td>\n",
       "      <td>Frost or ice</td>\n",
       "      <td>Single carriageway</td>\n",
       "      <td>30</td>\n",
       "      <td>9:38</td>\n",
       "      <td>Rural</td>\n",
       "      <td>Fine no high winds</td>\n",
       "      <td>Car</td>\n",
       "    </tr>\n",
       "    <tr>\n",
       "      <th>307971</th>\n",
       "      <td>BS0307972</td>\n",
       "      <td>23-02-2022</td>\n",
       "      <td>Tuesday</td>\n",
       "      <td>Give way or uncontrolled</td>\n",
       "      <td>T or staggered junction</td>\n",
       "      <td>Serious</td>\n",
       "      <td>Darkness - no lighting</td>\n",
       "      <td>Highland</td>\n",
       "      <td>NaN</td>\n",
       "      <td>1</td>\n",
       "      <td>2</td>\n",
       "      <td>Northern</td>\n",
       "      <td>Wet or damp</td>\n",
       "      <td>Single carriageway</td>\n",
       "      <td>60</td>\n",
       "      <td>18:25</td>\n",
       "      <td>Rural</td>\n",
       "      <td>Fine no high winds</td>\n",
       "      <td>Motorcycle over 500cc</td>\n",
       "    </tr>\n",
       "    <tr>\n",
       "      <th>307972</th>\n",
       "      <td>BS0307973</td>\n",
       "      <td>28-02-2022</td>\n",
       "      <td>Sunday</td>\n",
       "      <td>Give way or uncontrolled</td>\n",
       "      <td>T or staggered junction</td>\n",
       "      <td>Serious</td>\n",
       "      <td>Daylight</td>\n",
       "      <td>Highland</td>\n",
       "      <td>Other object on road</td>\n",
       "      <td>1</td>\n",
       "      <td>1</td>\n",
       "      <td>Northern</td>\n",
       "      <td>Wet or damp</td>\n",
       "      <td>Dual carriageway</td>\n",
       "      <td>60</td>\n",
       "      <td>15:45</td>\n",
       "      <td>Rural</td>\n",
       "      <td>Snowing no high winds</td>\n",
       "      <td>Car</td>\n",
       "    </tr>\n",
       "  </tbody>\n",
       "</table>\n",
       "<p>307973 rows × 19 columns</p>\n",
       "</div>"
      ],
      "text/plain": [
       "       accident_index accident_date day_of_week              junction_control  \\\n",
       "0           BS0000001    01-01-2021    Thursday      Give way or uncontrolled   \n",
       "1           BS0000002    05-01-2021      Monday      Give way or uncontrolled   \n",
       "2           BS0000003    04-01-2021      Sunday      Give way or uncontrolled   \n",
       "3           BS0000004    05-01-2021      Monday           Auto traffic signal   \n",
       "4           BS0000005    06-01-2021     Tuesday           Auto traffic signal   \n",
       "...               ...           ...         ...                           ...   \n",
       "307968      BS0307969    18-02-2022    Thursday  Data missing or out of range   \n",
       "307969      BS0307970    21-02-2022      Sunday  Data missing or out of range   \n",
       "307970      BS0307971    23-02-2022     Tuesday      Give way or uncontrolled   \n",
       "307971      BS0307972    23-02-2022     Tuesday      Give way or uncontrolled   \n",
       "307972      BS0307973    28-02-2022      Sunday      Give way or uncontrolled   \n",
       "\n",
       "                            junction_detail accident_severity  \\\n",
       "0                   T or staggered junction           Serious   \n",
       "1                                Crossroads           Serious   \n",
       "2                   T or staggered junction            Slight   \n",
       "3                   T or staggered junction           Serious   \n",
       "4                                Crossroads           Serious   \n",
       "...                                     ...               ...   \n",
       "307968  Not at junction or within 20 metres            Slight   \n",
       "307969  Not at junction or within 20 metres            Slight   \n",
       "307970              T or staggered junction            Slight   \n",
       "307971              T or staggered junction           Serious   \n",
       "307972              T or staggered junction           Serious   \n",
       "\n",
       "              light_conditions         local_authority   carriageway_hazards  \\\n",
       "0                     Daylight  Kensington and Chelsea                   NaN   \n",
       "1                     Daylight  Kensington and Chelsea                   NaN   \n",
       "2                     Daylight  Kensington and Chelsea                   NaN   \n",
       "3                     Daylight  Kensington and Chelsea                   NaN   \n",
       "4        Darkness - lights lit  Kensington and Chelsea                   NaN   \n",
       "...                        ...                     ...                   ...   \n",
       "307968                Daylight                Highland                   NaN   \n",
       "307969  Darkness - no lighting                Highland                   NaN   \n",
       "307970                Daylight                Highland                   NaN   \n",
       "307971  Darkness - no lighting                Highland                   NaN   \n",
       "307972                Daylight                Highland  Other object on road   \n",
       "\n",
       "        number_of_casualties  number_of_vehicles         police_force  \\\n",
       "0                          1                   2  Metropolitan Police   \n",
       "1                         11                   2  Metropolitan Police   \n",
       "2                          1                   2  Metropolitan Police   \n",
       "3                          1                   2  Metropolitan Police   \n",
       "4                          1                   2  Metropolitan Police   \n",
       "...                      ...                 ...                  ...   \n",
       "307968                     2                   1             Northern   \n",
       "307969                     1                   1             Northern   \n",
       "307970                     1                   3             Northern   \n",
       "307971                     1                   2             Northern   \n",
       "307972                     1                   1             Northern   \n",
       "\n",
       "       road_surface_conditions           road_type  speed_limit   time  \\\n",
       "0                          Dry      One way street           30  15:11   \n",
       "1                  Wet or damp  Single carriageway           30  10:59   \n",
       "2                          Dry  Single carriageway           30  14:19   \n",
       "3                 Frost or ice  Single carriageway           30   8:10   \n",
       "4                          Dry  Single carriageway           30  17:25   \n",
       "...                        ...                 ...          ...    ...   \n",
       "307968                     Dry  Single carriageway           60   7:00   \n",
       "307969            Frost or ice  Single carriageway           60   3:00   \n",
       "307970            Frost or ice  Single carriageway           30   9:38   \n",
       "307971             Wet or damp  Single carriageway           60  18:25   \n",
       "307972             Wet or damp    Dual carriageway           60  15:45   \n",
       "\n",
       "       urban_or_rural_area     weather_conditions           vehicle_type  \n",
       "0                    Urban     Fine no high winds                    Car  \n",
       "1                    Urban     Fine no high winds  Taxi/Private hire car  \n",
       "2                    Urban     Fine no high winds  Taxi/Private hire car  \n",
       "3                    Urban                  Other  Motorcycle over 500cc  \n",
       "4                    Urban     Fine no high winds                    Car  \n",
       "...                    ...                    ...                    ...  \n",
       "307968               Rural     Fine no high winds                    Car  \n",
       "307969               Rural     Fine no high winds                    Car  \n",
       "307970               Rural     Fine no high winds                    Car  \n",
       "307971               Rural     Fine no high winds  Motorcycle over 500cc  \n",
       "307972               Rural  Snowing no high winds                    Car  \n",
       "\n",
       "[307973 rows x 19 columns]"
      ]
     },
     "execution_count": 9,
     "metadata": {},
     "output_type": "execute_result"
    }
   ],
   "source": [
    "df"
   ]
  },
  {
   "cell_type": "code",
   "execution_count": 10,
   "id": "da10242d-97c6-4366-8928-7920ba29d13a",
   "metadata": {},
   "outputs": [
    {
     "data": {
      "text/plain": [
       "pandas.core.frame.DataFrame"
      ]
     },
     "execution_count": 10,
     "metadata": {},
     "output_type": "execute_result"
    }
   ],
   "source": [
    "type(df)"
   ]
  },
  {
   "cell_type": "markdown",
   "id": "a1736dd6-3c92-4c4f-bed7-298dd7b6dcd0",
   "metadata": {},
   "source": [
    "### Shape and Size"
   ]
  },
  {
   "cell_type": "code",
   "execution_count": 11,
   "id": "3503c3ef-561e-4052-a391-798acfbdcec0",
   "metadata": {},
   "outputs": [
    {
     "data": {
      "text/plain": [
       "(307973, 19)"
      ]
     },
     "execution_count": 11,
     "metadata": {},
     "output_type": "execute_result"
    }
   ],
   "source": [
    "# rows and colums\n",
    "\n",
    "df.shape"
   ]
  },
  {
   "cell_type": "code",
   "execution_count": 12,
   "id": "6758af42-2a65-4e3a-8b4a-ae5ddec68a58",
   "metadata": {},
   "outputs": [
    {
     "data": {
      "text/plain": [
       "5851487"
      ]
     },
     "execution_count": 12,
     "metadata": {},
     "output_type": "execute_result"
    }
   ],
   "source": [
    "# size = rows * columns\n",
    "\n",
    "df.size"
   ]
  },
  {
   "cell_type": "markdown",
   "id": "11ad44e6-53da-4dca-a45d-97ef8c911010",
   "metadata": {},
   "source": [
    "### Data types of the columns"
   ]
  },
  {
   "cell_type": "code",
   "execution_count": 13,
   "id": "0a6e459a-cf37-4548-8ad0-86c187d1b0b5",
   "metadata": {},
   "outputs": [
    {
     "data": {
      "text/plain": [
       "accident_index             object\n",
       "accident_date              object\n",
       "day_of_week                object\n",
       "junction_control           object\n",
       "junction_detail            object\n",
       "accident_severity          object\n",
       "light_conditions           object\n",
       "local_authority            object\n",
       "carriageway_hazards        object\n",
       "number_of_casualties        int64\n",
       "number_of_vehicles          int64\n",
       "police_force               object\n",
       "road_surface_conditions    object\n",
       "road_type                  object\n",
       "speed_limit                 int64\n",
       "time                       object\n",
       "urban_or_rural_area        object\n",
       "weather_conditions         object\n",
       "vehicle_type               object\n",
       "dtype: object"
      ]
     },
     "execution_count": 13,
     "metadata": {},
     "output_type": "execute_result"
    }
   ],
   "source": [
    "df.dtypes"
   ]
  },
  {
   "cell_type": "code",
   "execution_count": 14,
   "id": "a863e962-9d0e-4c92-9c4a-78df0b3c8dad",
   "metadata": {},
   "outputs": [],
   "source": [
    "# the date is in object format\n",
    "# change the object to datetime format\n",
    "\n",
    "df['accident_date'] = pd.to_datetime(df['accident_date'],format='%d-%m-%Y')"
   ]
  },
  {
   "cell_type": "code",
   "execution_count": 15,
   "id": "70c1af5a-e6ab-4bc4-991a-a49e0d3c7992",
   "metadata": {},
   "outputs": [],
   "source": [
    "# the time is in object format\n",
    "# change the object to time format\n",
    "\n",
    "df['time'] = pd.to_datetime(df['time']).dt.time"
   ]
  },
  {
   "cell_type": "code",
   "execution_count": 16,
   "id": "0e80d6e0-42b2-4afe-8723-bea763dc1ba3",
   "metadata": {},
   "outputs": [
    {
     "data": {
      "text/plain": [
       "0         15:11:00\n",
       "1         10:59:00\n",
       "2         14:19:00\n",
       "3         08:10:00\n",
       "4         17:25:00\n",
       "            ...   \n",
       "307968    07:00:00\n",
       "307969    03:00:00\n",
       "307970    09:38:00\n",
       "307971    18:25:00\n",
       "307972    15:45:00\n",
       "Name: time, Length: 307973, dtype: object"
      ]
     },
     "execution_count": 16,
     "metadata": {},
     "output_type": "execute_result"
    }
   ],
   "source": [
    "df['time']"
   ]
  },
  {
   "cell_type": "markdown",
   "id": "75aa0df4-d881-47a3-b5cc-f1b02bef6acb",
   "metadata": {},
   "source": [
    "### Data Preprocessing / cleaning"
   ]
  },
  {
   "cell_type": "code",
   "execution_count": 17,
   "id": "377dce82-e255-4e4d-88b8-49a99f4844aa",
   "metadata": {},
   "outputs": [
    {
     "data": {
      "text/plain": [
       "0"
      ]
     },
     "execution_count": 17,
     "metadata": {},
     "output_type": "execute_result"
    }
   ],
   "source": [
    "# duplicated() - used to identify duplicates in the dataset\n",
    "# sum() - calculate the total of the values\n",
    "\n",
    "df.duplicated().sum()"
   ]
  },
  {
   "cell_type": "markdown",
   "id": "fa120b26-d6a8-4644-b48c-9ba80e99d920",
   "metadata": {},
   "source": [
    "* There are no duplicates."
   ]
  },
  {
   "cell_type": "markdown",
   "id": "ee2221f9-63ab-4b56-9058-85c4fb175294",
   "metadata": {},
   "source": [
    "### Handling missing values."
   ]
  },
  {
   "cell_type": "code",
   "execution_count": 18,
   "id": "c0aa8040-e12c-4352-921d-0c310966f7b0",
   "metadata": {},
   "outputs": [
    {
     "data": {
      "text/plain": [
       "accident_index                  0\n",
       "accident_date                   0\n",
       "day_of_week                     0\n",
       "junction_control                0\n",
       "junction_detail                 0\n",
       "accident_severity               0\n",
       "light_conditions                0\n",
       "local_authority                 0\n",
       "carriageway_hazards        302549\n",
       "number_of_casualties            0\n",
       "number_of_vehicles              0\n",
       "police_force                    0\n",
       "road_surface_conditions         0\n",
       "road_type                       0\n",
       "speed_limit                     0\n",
       "time                           17\n",
       "urban_or_rural_area             0\n",
       "weather_conditions              0\n",
       "vehicle_type                    0\n",
       "dtype: int64"
      ]
     },
     "execution_count": 18,
     "metadata": {},
     "output_type": "execute_result"
    }
   ],
   "source": [
    "df.isnull().sum()"
   ]
  },
  {
   "cell_type": "code",
   "execution_count": 19,
   "id": "52029925-f64a-46a0-a2b2-4b04f06f9ce0",
   "metadata": {},
   "outputs": [
    {
     "data": {
      "text/plain": [
       "carriageway_hazards\n",
       "Other object on road                               2243\n",
       "Any animal in carriageway (except ridden horse)    1620\n",
       "Pedestrian in carriageway - not injured             715\n",
       "Previous accident                                   511\n",
       "Vehicle load on road                                335\n",
       "Name: count, dtype: int64"
      ]
     },
     "execution_count": 19,
     "metadata": {},
     "output_type": "execute_result"
    }
   ],
   "source": [
    "df['carriageway_hazards'].value_counts()"
   ]
  },
  {
   "cell_type": "code",
   "execution_count": 20,
   "id": "bdeb1b73-dbcd-4790-8cdf-1862d9865ea0",
   "metadata": {},
   "outputs": [
    {
     "name": "stdout",
     "output_type": "stream",
     "text": [
      "The missing values of carriageway_hazards are 98.24%\n"
     ]
    }
   ],
   "source": [
    "missing_carriageway_hazards = df['carriageway_hazards'].isnull().sum()\n",
    "missing_carriageway_hazards_per = (missing_carriageway_hazards/df['accident_index'].nunique()) * 100\n",
    "print(f\"The missing values of carriageway_hazards are {round(missing_carriageway_hazards_per,2)}%\")"
   ]
  },
  {
   "cell_type": "markdown",
   "id": "914e7826-519a-49d8-9ae7-ffb8e88afd17",
   "metadata": {},
   "source": [
    "* Nearly 98% of carriageway_hazards values are missing, so the row can be removed."
   ]
  },
  {
   "cell_type": "code",
   "execution_count": 21,
   "id": "f7301826-075c-410b-ba44-0d9644aa7f37",
   "metadata": {},
   "outputs": [],
   "source": [
    "df.drop(['carriageway_hazards'],axis=1,inplace=True)"
   ]
  },
  {
   "cell_type": "code",
   "execution_count": 22,
   "id": "c884203a-495f-42b1-b853-c2fe326a5904",
   "metadata": {},
   "outputs": [
    {
     "data": {
      "text/plain": [
       "17"
      ]
     },
     "execution_count": 22,
     "metadata": {},
     "output_type": "execute_result"
    }
   ],
   "source": [
    "df['time'].isnull().sum()"
   ]
  },
  {
   "cell_type": "code",
   "execution_count": 23,
   "id": "723a6daf-fc26-4545-9162-53071b43a3b0",
   "metadata": {},
   "outputs": [],
   "source": [
    "time_mode = df['time'].mode()[0]"
   ]
  },
  {
   "cell_type": "code",
   "execution_count": 24,
   "id": "bf00f70e-bfad-47d0-aa67-ba6ec2729bc3",
   "metadata": {},
   "outputs": [],
   "source": [
    "df['time'] = df['time'].fillna(time_mode)"
   ]
  },
  {
   "cell_type": "code",
   "execution_count": 25,
   "id": "7073b31f-a3d8-4774-9f3c-e3b93164d5b6",
   "metadata": {},
   "outputs": [
    {
     "data": {
      "text/plain": [
       "accident_index             0\n",
       "accident_date              0\n",
       "day_of_week                0\n",
       "junction_control           0\n",
       "junction_detail            0\n",
       "accident_severity          0\n",
       "light_conditions           0\n",
       "local_authority            0\n",
       "number_of_casualties       0\n",
       "number_of_vehicles         0\n",
       "police_force               0\n",
       "road_surface_conditions    0\n",
       "road_type                  0\n",
       "speed_limit                0\n",
       "time                       0\n",
       "urban_or_rural_area        0\n",
       "weather_conditions         0\n",
       "vehicle_type               0\n",
       "dtype: int64"
      ]
     },
     "execution_count": 25,
     "metadata": {},
     "output_type": "execute_result"
    }
   ],
   "source": [
    "df.isnull().sum()"
   ]
  },
  {
   "cell_type": "markdown",
   "id": "982577e7-e266-4951-ac68-bb858258e929",
   "metadata": {},
   "source": [
    "#### 1. CY_Casualties (Current Year Casualties)"
   ]
  },
  {
   "cell_type": "code",
   "execution_count": 26,
   "id": "33900855-07fe-4d8b-8a54-e59264776e70",
   "metadata": {},
   "outputs": [],
   "source": [
    "df['year'] = pd.to_datetime(df['accident_date']).dt.year"
   ]
  },
  {
   "cell_type": "code",
   "execution_count": 33,
   "id": "316f1857-3df1-4e69-b87c-a929dd043d58",
   "metadata": {},
   "outputs": [
    {
     "data": {
      "text/html": [
       "<div>\n",
       "<style scoped>\n",
       "    .dataframe tbody tr th:only-of-type {\n",
       "        vertical-align: middle;\n",
       "    }\n",
       "\n",
       "    .dataframe tbody tr th {\n",
       "        vertical-align: top;\n",
       "    }\n",
       "\n",
       "    .dataframe thead th {\n",
       "        text-align: right;\n",
       "    }\n",
       "</style>\n",
       "<table border=\"1\" class=\"dataframe\">\n",
       "  <thead>\n",
       "    <tr style=\"text-align: right;\">\n",
       "      <th></th>\n",
       "      <th>accident_index</th>\n",
       "      <th>accident_date</th>\n",
       "      <th>day_of_week</th>\n",
       "      <th>junction_control</th>\n",
       "      <th>junction_detail</th>\n",
       "      <th>accident_severity</th>\n",
       "      <th>light_conditions</th>\n",
       "      <th>local_authority</th>\n",
       "      <th>number_of_casualties</th>\n",
       "      <th>number_of_vehicles</th>\n",
       "      <th>police_force</th>\n",
       "      <th>road_surface_conditions</th>\n",
       "      <th>road_type</th>\n",
       "      <th>speed_limit</th>\n",
       "      <th>time</th>\n",
       "      <th>urban_or_rural_area</th>\n",
       "      <th>weather_conditions</th>\n",
       "      <th>vehicle_type</th>\n",
       "      <th>year</th>\n",
       "    </tr>\n",
       "  </thead>\n",
       "  <tbody>\n",
       "  </tbody>\n",
       "</table>\n",
       "</div>"
      ],
      "text/plain": [
       "Empty DataFrame\n",
       "Columns: [accident_index, accident_date, day_of_week, junction_control, junction_detail, accident_severity, light_conditions, local_authority, number_of_casualties, number_of_vehicles, police_force, road_surface_conditions, road_type, speed_limit, time, urban_or_rural_area, weather_conditions, vehicle_type, year]\n",
       "Index: []"
      ]
     },
     "execution_count": 33,
     "metadata": {},
     "output_type": "execute_result"
    }
   ],
   "source": [
    "current_year_casulaties = df[df['year']==2025]\n",
    "current_year_casulaties"
   ]
  },
  {
   "cell_type": "markdown",
   "id": "716cdf57-4205-4dac-b5df-748dec8e7a37",
   "metadata": {},
   "source": [
    "#### 2. CY – Fatal Casualties - 2022"
   ]
  },
  {
   "cell_type": "code",
   "execution_count": 39,
   "id": "137559a6-e87f-4665-b6f3-a29563246956",
   "metadata": {},
   "outputs": [
    {
     "data": {
      "text/html": [
       "<div>\n",
       "<style scoped>\n",
       "    .dataframe tbody tr th:only-of-type {\n",
       "        vertical-align: middle;\n",
       "    }\n",
       "\n",
       "    .dataframe tbody tr th {\n",
       "        vertical-align: top;\n",
       "    }\n",
       "\n",
       "    .dataframe thead th {\n",
       "        text-align: right;\n",
       "    }\n",
       "</style>\n",
       "<table border=\"1\" class=\"dataframe\">\n",
       "  <thead>\n",
       "    <tr style=\"text-align: right;\">\n",
       "      <th></th>\n",
       "      <th>accident_index</th>\n",
       "      <th>accident_date</th>\n",
       "      <th>day_of_week</th>\n",
       "      <th>junction_control</th>\n",
       "      <th>junction_detail</th>\n",
       "      <th>accident_severity</th>\n",
       "      <th>light_conditions</th>\n",
       "      <th>local_authority</th>\n",
       "      <th>number_of_casualties</th>\n",
       "      <th>number_of_vehicles</th>\n",
       "      <th>police_force</th>\n",
       "      <th>road_surface_conditions</th>\n",
       "      <th>road_type</th>\n",
       "      <th>speed_limit</th>\n",
       "      <th>time</th>\n",
       "      <th>urban_or_rural_area</th>\n",
       "      <th>weather_conditions</th>\n",
       "      <th>vehicle_type</th>\n",
       "      <th>year</th>\n",
       "    </tr>\n",
       "  </thead>\n",
       "  <tbody>\n",
       "    <tr>\n",
       "      <th>164563</th>\n",
       "      <td>BS0164564</td>\n",
       "      <td>2022-08-17</td>\n",
       "      <td>Tuesday</td>\n",
       "      <td>Data missing or out of range</td>\n",
       "      <td>Not at junction or within 20 metres</td>\n",
       "      <td>Fatal</td>\n",
       "      <td>Daylight</td>\n",
       "      <td>City of London</td>\n",
       "      <td>1</td>\n",
       "      <td>1</td>\n",
       "      <td>City of London</td>\n",
       "      <td>Dry</td>\n",
       "      <td>Single carriageway</td>\n",
       "      <td>30</td>\n",
       "      <td>14:45:00</td>\n",
       "      <td>Urban</td>\n",
       "      <td>Fine no high winds</td>\n",
       "      <td>Car</td>\n",
       "      <td>2022</td>\n",
       "    </tr>\n",
       "    <tr>\n",
       "      <th>179443</th>\n",
       "      <td>BS0179444</td>\n",
       "      <td>2022-01-08</td>\n",
       "      <td>Friday</td>\n",
       "      <td>Give way or uncontrolled</td>\n",
       "      <td>T or staggered junction</td>\n",
       "      <td>Fatal</td>\n",
       "      <td>Daylight</td>\n",
       "      <td>Islington</td>\n",
       "      <td>1</td>\n",
       "      <td>2</td>\n",
       "      <td>Metropolitan Police</td>\n",
       "      <td>Frost or ice</td>\n",
       "      <td>Single carriageway</td>\n",
       "      <td>30</td>\n",
       "      <td>09:00:00</td>\n",
       "      <td>Urban</td>\n",
       "      <td>Fine no high winds</td>\n",
       "      <td>Car</td>\n",
       "      <td>2022</td>\n",
       "    </tr>\n",
       "    <tr>\n",
       "      <th>179455</th>\n",
       "      <td>BS0179456</td>\n",
       "      <td>2022-02-21</td>\n",
       "      <td>Sunday</td>\n",
       "      <td>Auto traffic signal</td>\n",
       "      <td>T or staggered junction</td>\n",
       "      <td>Fatal</td>\n",
       "      <td>Darkness - lights lit</td>\n",
       "      <td>Westminster</td>\n",
       "      <td>1</td>\n",
       "      <td>1</td>\n",
       "      <td>Metropolitan Police</td>\n",
       "      <td>Dry</td>\n",
       "      <td>Single carriageway</td>\n",
       "      <td>30</td>\n",
       "      <td>01:50:00</td>\n",
       "      <td>Urban</td>\n",
       "      <td>Fine no high winds</td>\n",
       "      <td>Car</td>\n",
       "      <td>2022</td>\n",
       "    </tr>\n",
       "    <tr>\n",
       "      <th>179467</th>\n",
       "      <td>BS0179468</td>\n",
       "      <td>2022-04-03</td>\n",
       "      <td>Saturday</td>\n",
       "      <td>Data missing or out of range</td>\n",
       "      <td>Not at junction or within 20 metres</td>\n",
       "      <td>Fatal</td>\n",
       "      <td>Daylight</td>\n",
       "      <td>Newham</td>\n",
       "      <td>1</td>\n",
       "      <td>1</td>\n",
       "      <td>Metropolitan Police</td>\n",
       "      <td>Dry</td>\n",
       "      <td>Dual carriageway</td>\n",
       "      <td>30</td>\n",
       "      <td>16:34:00</td>\n",
       "      <td>Urban</td>\n",
       "      <td>Fine no high winds</td>\n",
       "      <td>Car</td>\n",
       "      <td>2022</td>\n",
       "    </tr>\n",
       "    <tr>\n",
       "      <th>179475</th>\n",
       "      <td>BS0179476</td>\n",
       "      <td>2022-04-14</td>\n",
       "      <td>Wednesday</td>\n",
       "      <td>Data missing or out of range</td>\n",
       "      <td>Not at junction or within 20 metres</td>\n",
       "      <td>Fatal</td>\n",
       "      <td>Daylight</td>\n",
       "      <td>Westminster</td>\n",
       "      <td>1</td>\n",
       "      <td>2</td>\n",
       "      <td>Metropolitan Police</td>\n",
       "      <td>Dry</td>\n",
       "      <td>Single carriageway</td>\n",
       "      <td>30</td>\n",
       "      <td>13:00:00</td>\n",
       "      <td>Urban</td>\n",
       "      <td>Fine no high winds</td>\n",
       "      <td>Car</td>\n",
       "      <td>2022</td>\n",
       "    </tr>\n",
       "    <tr>\n",
       "      <th>...</th>\n",
       "      <td>...</td>\n",
       "      <td>...</td>\n",
       "      <td>...</td>\n",
       "      <td>...</td>\n",
       "      <td>...</td>\n",
       "      <td>...</td>\n",
       "      <td>...</td>\n",
       "      <td>...</td>\n",
       "      <td>...</td>\n",
       "      <td>...</td>\n",
       "      <td>...</td>\n",
       "      <td>...</td>\n",
       "      <td>...</td>\n",
       "      <td>...</td>\n",
       "      <td>...</td>\n",
       "      <td>...</td>\n",
       "      <td>...</td>\n",
       "      <td>...</td>\n",
       "      <td>...</td>\n",
       "    </tr>\n",
       "    <tr>\n",
       "      <th>307764</th>\n",
       "      <td>BS0307765</td>\n",
       "      <td>2022-01-29</td>\n",
       "      <td>Friday</td>\n",
       "      <td>Data missing or out of range</td>\n",
       "      <td>Not at junction or within 20 metres</td>\n",
       "      <td>Fatal</td>\n",
       "      <td>Daylight</td>\n",
       "      <td>Western Isles</td>\n",
       "      <td>1</td>\n",
       "      <td>1</td>\n",
       "      <td>Northern</td>\n",
       "      <td>Wet or damp</td>\n",
       "      <td>Single carriageway</td>\n",
       "      <td>40</td>\n",
       "      <td>14:58:00</td>\n",
       "      <td>Rural</td>\n",
       "      <td>Fine + high winds</td>\n",
       "      <td>Car</td>\n",
       "      <td>2022</td>\n",
       "    </tr>\n",
       "    <tr>\n",
       "      <th>307813</th>\n",
       "      <td>BS0307814</td>\n",
       "      <td>2022-02-02</td>\n",
       "      <td>Tuesday</td>\n",
       "      <td>Data missing or out of range</td>\n",
       "      <td>Not at junction or within 20 metres</td>\n",
       "      <td>Fatal</td>\n",
       "      <td>Daylight</td>\n",
       "      <td>Highland</td>\n",
       "      <td>1</td>\n",
       "      <td>1</td>\n",
       "      <td>Northern</td>\n",
       "      <td>Snow</td>\n",
       "      <td>Single carriageway</td>\n",
       "      <td>60</td>\n",
       "      <td>10:00:00</td>\n",
       "      <td>Rural</td>\n",
       "      <td>Snowing no high winds</td>\n",
       "      <td>Car</td>\n",
       "      <td>2022</td>\n",
       "    </tr>\n",
       "    <tr>\n",
       "      <th>307859</th>\n",
       "      <td>BS0307860</td>\n",
       "      <td>2022-08-15</td>\n",
       "      <td>Sunday</td>\n",
       "      <td>Data missing or out of range</td>\n",
       "      <td>Not at junction or within 20 metres</td>\n",
       "      <td>Fatal</td>\n",
       "      <td>Daylight</td>\n",
       "      <td>Highland</td>\n",
       "      <td>1</td>\n",
       "      <td>1</td>\n",
       "      <td>Northern</td>\n",
       "      <td>Dry</td>\n",
       "      <td>Single carriageway</td>\n",
       "      <td>60</td>\n",
       "      <td>16:15:00</td>\n",
       "      <td>Rural</td>\n",
       "      <td>Fine no high winds</td>\n",
       "      <td>Goods 7.5 tonnes mgw and over</td>\n",
       "      <td>2022</td>\n",
       "    </tr>\n",
       "    <tr>\n",
       "      <th>307875</th>\n",
       "      <td>BS0307876</td>\n",
       "      <td>2022-10-21</td>\n",
       "      <td>Thursday</td>\n",
       "      <td>Give way or uncontrolled</td>\n",
       "      <td>T or staggered junction</td>\n",
       "      <td>Fatal</td>\n",
       "      <td>Darkness - lights lit</td>\n",
       "      <td>Highland</td>\n",
       "      <td>1</td>\n",
       "      <td>1</td>\n",
       "      <td>Northern</td>\n",
       "      <td>Wet or damp</td>\n",
       "      <td>Single carriageway</td>\n",
       "      <td>30</td>\n",
       "      <td>20:53:00</td>\n",
       "      <td>Rural</td>\n",
       "      <td>Fine no high winds</td>\n",
       "      <td>Car</td>\n",
       "      <td>2022</td>\n",
       "    </tr>\n",
       "    <tr>\n",
       "      <th>307921</th>\n",
       "      <td>BS0307922</td>\n",
       "      <td>2022-01-06</td>\n",
       "      <td>Wednesday</td>\n",
       "      <td>Data missing or out of range</td>\n",
       "      <td>Not at junction or within 20 metres</td>\n",
       "      <td>Fatal</td>\n",
       "      <td>Daylight</td>\n",
       "      <td>Shetland Islands</td>\n",
       "      <td>3</td>\n",
       "      <td>1</td>\n",
       "      <td>Northern</td>\n",
       "      <td>Snow</td>\n",
       "      <td>Single carriageway</td>\n",
       "      <td>60</td>\n",
       "      <td>10:35:00</td>\n",
       "      <td>Rural</td>\n",
       "      <td>Fine no high winds</td>\n",
       "      <td>Van / Goods 3.5 tonnes mgw or under</td>\n",
       "      <td>2022</td>\n",
       "    </tr>\n",
       "  </tbody>\n",
       "</table>\n",
       "<p>1549 rows × 19 columns</p>\n",
       "</div>"
      ],
      "text/plain": [
       "       accident_index accident_date day_of_week              junction_control  \\\n",
       "164563      BS0164564    2022-08-17     Tuesday  Data missing or out of range   \n",
       "179443      BS0179444    2022-01-08      Friday      Give way or uncontrolled   \n",
       "179455      BS0179456    2022-02-21      Sunday           Auto traffic signal   \n",
       "179467      BS0179468    2022-04-03    Saturday  Data missing or out of range   \n",
       "179475      BS0179476    2022-04-14   Wednesday  Data missing or out of range   \n",
       "...               ...           ...         ...                           ...   \n",
       "307764      BS0307765    2022-01-29      Friday  Data missing or out of range   \n",
       "307813      BS0307814    2022-02-02     Tuesday  Data missing or out of range   \n",
       "307859      BS0307860    2022-08-15      Sunday  Data missing or out of range   \n",
       "307875      BS0307876    2022-10-21    Thursday      Give way or uncontrolled   \n",
       "307921      BS0307922    2022-01-06   Wednesday  Data missing or out of range   \n",
       "\n",
       "                            junction_detail accident_severity  \\\n",
       "164563  Not at junction or within 20 metres             Fatal   \n",
       "179443              T or staggered junction             Fatal   \n",
       "179455              T or staggered junction             Fatal   \n",
       "179467  Not at junction or within 20 metres             Fatal   \n",
       "179475  Not at junction or within 20 metres             Fatal   \n",
       "...                                     ...               ...   \n",
       "307764  Not at junction or within 20 metres             Fatal   \n",
       "307813  Not at junction or within 20 metres             Fatal   \n",
       "307859  Not at junction or within 20 metres             Fatal   \n",
       "307875              T or staggered junction             Fatal   \n",
       "307921  Not at junction or within 20 metres             Fatal   \n",
       "\n",
       "             light_conditions   local_authority  number_of_casualties  \\\n",
       "164563               Daylight    City of London                     1   \n",
       "179443               Daylight         Islington                     1   \n",
       "179455  Darkness - lights lit       Westminster                     1   \n",
       "179467               Daylight            Newham                     1   \n",
       "179475               Daylight       Westminster                     1   \n",
       "...                       ...               ...                   ...   \n",
       "307764               Daylight     Western Isles                     1   \n",
       "307813               Daylight          Highland                     1   \n",
       "307859               Daylight          Highland                     1   \n",
       "307875  Darkness - lights lit          Highland                     1   \n",
       "307921               Daylight  Shetland Islands                     3   \n",
       "\n",
       "        number_of_vehicles         police_force road_surface_conditions  \\\n",
       "164563                   1       City of London                     Dry   \n",
       "179443                   2  Metropolitan Police            Frost or ice   \n",
       "179455                   1  Metropolitan Police                     Dry   \n",
       "179467                   1  Metropolitan Police                     Dry   \n",
       "179475                   2  Metropolitan Police                     Dry   \n",
       "...                    ...                  ...                     ...   \n",
       "307764                   1             Northern             Wet or damp   \n",
       "307813                   1             Northern                    Snow   \n",
       "307859                   1             Northern                     Dry   \n",
       "307875                   1             Northern             Wet or damp   \n",
       "307921                   1             Northern                    Snow   \n",
       "\n",
       "                 road_type  speed_limit      time urban_or_rural_area  \\\n",
       "164563  Single carriageway           30  14:45:00               Urban   \n",
       "179443  Single carriageway           30  09:00:00               Urban   \n",
       "179455  Single carriageway           30  01:50:00               Urban   \n",
       "179467    Dual carriageway           30  16:34:00               Urban   \n",
       "179475  Single carriageway           30  13:00:00               Urban   \n",
       "...                    ...          ...       ...                 ...   \n",
       "307764  Single carriageway           40  14:58:00               Rural   \n",
       "307813  Single carriageway           60  10:00:00               Rural   \n",
       "307859  Single carriageway           60  16:15:00               Rural   \n",
       "307875  Single carriageway           30  20:53:00               Rural   \n",
       "307921  Single carriageway           60  10:35:00               Rural   \n",
       "\n",
       "           weather_conditions                         vehicle_type  year  \n",
       "164563     Fine no high winds                                  Car  2022  \n",
       "179443     Fine no high winds                                  Car  2022  \n",
       "179455     Fine no high winds                                  Car  2022  \n",
       "179467     Fine no high winds                                  Car  2022  \n",
       "179475     Fine no high winds                                  Car  2022  \n",
       "...                       ...                                  ...   ...  \n",
       "307764      Fine + high winds                                  Car  2022  \n",
       "307813  Snowing no high winds                                  Car  2022  \n",
       "307859     Fine no high winds        Goods 7.5 tonnes mgw and over  2022  \n",
       "307875     Fine no high winds                                  Car  2022  \n",
       "307921     Fine no high winds  Van / Goods 3.5 tonnes mgw or under  2022  \n",
       "\n",
       "[1549 rows x 19 columns]"
      ]
     },
     "execution_count": 39,
     "metadata": {},
     "output_type": "execute_result"
    }
   ],
   "source": [
    "year2022_fatal_casulaties = df[(df['year']==2022) & (df['accident_severity']=='Fatal')]\n",
    "year2022_fatal_casulaties"
   ]
  },
  {
   "cell_type": "markdown",
   "id": "12ca5f62-740b-4836-9bdd-fa77fd54134c",
   "metadata": {},
   "source": [
    "#### 3. CY – Serious Casualties -2022"
   ]
  },
  {
   "cell_type": "code",
   "execution_count": null,
   "id": "4ff49f39-dbb1-4c9b-bda9-33bd916e4acb",
   "metadata": {},
   "outputs": [],
   "source": [
    "year2022_serious_casulaties = df[(df['year']==2022) & (df['accident_severity']=='Serious')]\n",
    "year2022_serious_casulaties"
   ]
  },
  {
   "cell_type": "markdown",
   "id": "9c42562a-30b9-432c-9a96-2842a553eeba",
   "metadata": {},
   "source": [
    "#### 4. CY – Slight Casualties – 2022"
   ]
  },
  {
   "cell_type": "code",
   "execution_count": null,
   "id": "f39b2a55-6507-4042-90d9-52a11fe53a82",
   "metadata": {},
   "outputs": [],
   "source": [
    "year2022_serious_casulaties = df[(df['year']==2022) & (df['accident_severity']=='Slight')]\n",
    "year2022_serious_casulaties"
   ]
  },
  {
   "cell_type": "markdown",
   "id": "5667c43f-50b0-4ab5-8923-30919ecce832",
   "metadata": {},
   "source": [
    "#### 5. Total Number of [Slight, Fatal, Serious] Casualties\n"
   ]
  },
  {
   "cell_type": "code",
   "execution_count": null,
   "id": "7967e5a0-2aae-4fd4-9656-de1f467c5db7",
   "metadata": {},
   "outputs": [],
   "source": [
    "df['accident_severity'].value_counts().to_frame()"
   ]
  },
  {
   "cell_type": "markdown",
   "id": "ff17286a-9ee7-4cc6-a836-8e3f0e110761",
   "metadata": {},
   "source": [
    "#### 6. Percentage(%) of Accidents that got Severity – Slight"
   ]
  },
  {
   "cell_type": "code",
   "execution_count": null,
   "id": "0b84923c-7e21-4f43-8776-e7cceb2bee45",
   "metadata": {},
   "outputs": [],
   "source": [
    "total_num_of_acc = len(df['accident_severity'])\n",
    "num_of_slight_acc = len(df[df['accident_severity']=='Slight'])\n",
    "\n",
    "per_slight_acc = (num_of_slight_acc / total_num_of_acc) * 100"
   ]
  },
  {
   "cell_type": "code",
   "execution_count": null,
   "id": "fbf05f24-e2d8-420a-b5ec-76a86b0ac10d",
   "metadata": {},
   "outputs": [],
   "source": [
    "round(per_slight_acc,2)"
   ]
  },
  {
   "cell_type": "markdown",
   "id": "43ffb12a-ca37-4a99-ab63-3fdaba1ce1c5",
   "metadata": {},
   "source": [
    "#### 7. Percentage(%) of Accidents that got Severity – Fatal"
   ]
  },
  {
   "cell_type": "code",
   "execution_count": null,
   "id": "0664cff2-9ca0-4e2e-8b4f-3a9acf4d1712",
   "metadata": {},
   "outputs": [],
   "source": [
    "total_num_of_acc = len(df['accident_severity'])\n",
    "num_of_fatal_acc = len(df[df['accident_severity']=='Fatal'])\n",
    "\n",
    "per_fatal_acc = (num_of_fatal_acc / total_num_of_acc) * 100"
   ]
  },
  {
   "cell_type": "code",
   "execution_count": null,
   "id": "46cb0d16-318f-480d-ad1a-c55cc082a396",
   "metadata": {},
   "outputs": [],
   "source": [
    "round(per_fatal_acc,2)"
   ]
  },
  {
   "cell_type": "markdown",
   "id": "a8360c60-e821-49b2-80c9-194a5dc65d53",
   "metadata": {},
   "source": [
    "#### 8. Percentage(%) of Accidents that got Severity – Serious"
   ]
  },
  {
   "cell_type": "code",
   "execution_count": null,
   "id": "25cbdcc6-0d9a-49cf-870a-8e70e983a98d",
   "metadata": {},
   "outputs": [],
   "source": [
    "total_num_of_acc = len(df['accident_severity'])\n",
    "num_of_serious_acc = len(df[df['accident_severity']=='Serious'])\n",
    "\n",
    "per_serious_acc = (num_of_serious_acc / total_num_of_acc) * 100"
   ]
  },
  {
   "cell_type": "code",
   "execution_count": null,
   "id": "7e642958-51ed-410d-8100-817c3e7e99b7",
   "metadata": {},
   "outputs": [],
   "source": [
    "round(per_serious_acc,2)"
   ]
  },
  {
   "cell_type": "markdown",
   "id": "9f93919a-62ba-4ccb-8f83-62b33daac38c",
   "metadata": {},
   "source": [
    "#### 9. Vehicle Group – Total Number of Casualties"
   ]
  },
  {
   "cell_type": "code",
   "execution_count": null,
   "id": "a48c9de7-1e1e-4355-a802-452bf33857cc",
   "metadata": {},
   "outputs": [],
   "source": [
    "df.groupby('vehicle_type')['number_of_casualties'].sum().sort_values(ascending=False).to_frame()"
   ]
  },
  {
   "cell_type": "markdown",
   "id": "3b5a90f4-a55f-42aa-981f-a40cff9e149e",
   "metadata": {},
   "source": [
    "#### 10. CY – Casualties Monthly Trend"
   ]
  },
  {
   "cell_type": "code",
   "execution_count": null,
   "id": "a6b5ec27-79c6-4e11-ba84-17722485d570",
   "metadata": {},
   "outputs": [],
   "source": [
    "monthly_accidents = (df\n",
    "                     .groupby(df['accident_date'].dt.month)\n",
    "                     .size()\n",
    "                     .reset_index(name='total_accidents')\n",
    "                     .rename(columns={'accident_date': 'month'})\n",
    "                    )\n",
    "monthly_accidents"
   ]
  },
  {
   "cell_type": "code",
   "execution_count": null,
   "id": "ceaaf5fa-c523-4074-91f6-98ce4688d1e7",
   "metadata": {},
   "outputs": [],
   "source": [
    "plt.figure(figsize=(12, 6))\n",
    "plt.plot(monthly_accidents['month'], monthly_accidents['total_accidents'], \n",
    "         marker='o', label='2021', color='blue')\n",
    "\n",
    "\n",
    "plt.title('Monthly Accidents Trends')\n",
    "plt.xlabel('Month')\n",
    "plt.ylabel('Total Accidents')\n",
    "plt.xticks(ticks=range(1, 13), labels=['Jan', 'Feb', 'Mar', 'Apr', 'May', 'Jun', \n",
    "                                        'Jul', 'Aug', 'Sep', 'Oct', 'Nov', 'Dec'])\n",
    "plt.legend()\n",
    "plt.grid()\n",
    "plt.show()"
   ]
  },
  {
   "cell_type": "code",
   "execution_count": null,
   "id": "20994558-aa57-486b-a858-3aaf3d07742e",
   "metadata": {},
   "outputs": [],
   "source": [
    "df_2021 = df[df['year']==2021]\n",
    "df_2022 = df[df['year']==2022]"
   ]
  },
  {
   "cell_type": "code",
   "execution_count": null,
   "id": "54e28505-5622-48e8-8e5d-c9ff792e12f4",
   "metadata": {},
   "outputs": [],
   "source": [
    "monthly_accidents_2021 = (df_2021\n",
    "                     .groupby(df['accident_date'].dt.month)\n",
    "                     .size()\n",
    "                     .reset_index(name='total_accidents')\n",
    "                     .rename(columns={'accident_date': 'month'})\n",
    "                    )\n",
    "monthly_accidents_2021"
   ]
  },
  {
   "cell_type": "code",
   "execution_count": null,
   "id": "84d72ca1-9106-42b2-8134-cfd6f748d99b",
   "metadata": {},
   "outputs": [],
   "source": [
    "monthly_accidents_2022 = (df_2022\n",
    "                     .groupby(df['accident_date'].dt.month)\n",
    "                     .size()\n",
    "                     .reset_index(name='total_accidents')\n",
    "                     .rename(columns={'accident_date': 'month'})\n",
    "                    )\n",
    "monthly_accidents_2022"
   ]
  },
  {
   "cell_type": "code",
   "execution_count": null,
   "id": "6d81914f-f86c-432b-92a5-e145a723b254",
   "metadata": {},
   "outputs": [],
   "source": [
    "\n",
    "plt.figure(figsize=(12, 6))\n",
    "plt.plot(monthly_accidents_2021['month'], monthly_accidents_2021['total_accidents'], \n",
    "         marker='o', label='2021', color='blue')\n",
    "plt.plot(monthly_accidents_2022['month'], monthly_accidents_2022['total_accidents'], \n",
    "         marker='o', label='2022', color='green')\n",
    "\n",
    "\n",
    "plt.title('Monthly Accidents Trends (2021 vs 2022)')\n",
    "plt.xlabel('Month')\n",
    "plt.ylabel('Total Accidents')\n",
    "plt.xticks(ticks=range(1, 13), labels=['Jan', 'Feb', 'Mar', 'Apr', 'May', 'Jun', \n",
    "                                        'Jul', 'Aug', 'Sep', 'Oct', 'Nov', 'Dec'])\n",
    "plt.legend()\n",
    "plt.grid()\n",
    "plt.show()\n"
   ]
  },
  {
   "cell_type": "markdown",
   "id": "c9c12261-208f-412b-9204-0e32b92a9296",
   "metadata": {},
   "source": [
    "#### 11. Types of Road – Total Number of Casualties:"
   ]
  },
  {
   "cell_type": "code",
   "execution_count": null,
   "id": "a913fde0-c675-4df3-8ebc-364cbed72571",
   "metadata": {},
   "outputs": [],
   "source": [
    "df.groupby('road_type')['number_of_casualties'].sum().sort_values(ascending=False).to_frame()"
   ]
  },
  {
   "cell_type": "markdown",
   "id": "32956261-c58d-4f8c-ad63-997f06c64e38",
   "metadata": {},
   "source": [
    "#### 12. Area – wise Percentage(%) and Total Number of Casualties"
   ]
  },
  {
   "cell_type": "code",
   "execution_count": null,
   "id": "5c879b9f-b468-4816-98a7-703e854f488d",
   "metadata": {},
   "outputs": [],
   "source": [
    "total_casualties_area = df.groupby('urban_or_rural_area')['number_of_casualties'].sum()\n",
    "total_casualties_area"
   ]
  },
  {
   "cell_type": "code",
   "execution_count": null,
   "id": "e0c4f786-18d9-4daa-aa42-4886e724b5bc",
   "metadata": {},
   "outputs": [],
   "source": [
    "area_casualties = (\n",
    "    df.groupby('urban_or_rural_area')['number_of_casualties']\n",
    "    .sum()\n",
    "    .reset_index()\n",
    "    .assign(percentage=lambda x: round((x['number_of_casualties'] / x['number_of_casualties'].sum()) * 100, 2))\n",
    ")\n",
    "area_casualties"
   ]
  },
  {
   "cell_type": "markdown",
   "id": "25c1ca2e-96f4-426c-bade-283c2bdad989",
   "metadata": {},
   "source": [
    "#### 13. Count of Casualties By Light Conditions"
   ]
  },
  {
   "cell_type": "code",
   "execution_count": null,
   "id": "11bc5373-c8c3-4eca-a668-1168a5f5e753",
   "metadata": {},
   "outputs": [],
   "source": [
    "light_casualties = (\n",
    "    df.groupby('light_conditions')['number_of_casualties']\n",
    "    .sum()\n",
    "    .sort_values(ascending = False))\n",
    "\n",
    "\n",
    "light_casualties.to_frame()"
   ]
  },
  {
   "cell_type": "markdown",
   "id": "a28a622a-2e65-46ef-8500-4bc358f5d26e",
   "metadata": {},
   "source": [
    "#### 14. Percentage (%) and Segregation of Casualties by Different Light Conditions"
   ]
  },
  {
   "cell_type": "code",
   "execution_count": null,
   "id": "c9221fb6-efb2-4a40-8e59-18cb0e35646a",
   "metadata": {},
   "outputs": [],
   "source": [
    "light_casualties_per = (\n",
    "    df.groupby('light_conditions')['number_of_casualties']\n",
    "    .sum()\n",
    "    .reset_index()\n",
    "    .assign(percentage=lambda x: round((x['number_of_casualties'] / x['number_of_casualties'].sum()) * 100, 2))\n",
    "    .sort_values(by = 'percentage', ascending = False)\n",
    ")\n",
    "light_casualties_per"
   ]
  },
  {
   "cell_type": "markdown",
   "id": "995cdcea-6487-4a10-8c10-b045f0cc19f6",
   "metadata": {},
   "source": [
    "#### 15. Top 10 Local Authority with Highest Total Number of Casualties"
   ]
  },
  {
   "cell_type": "code",
   "execution_count": null,
   "id": "79b88578-d49f-4834-ab5c-fb5e9e815517",
   "metadata": {},
   "outputs": [],
   "source": [
    "top10_authority = ( df.groupby('local_authority')['number_of_casualties']\n",
    "                   .sum()\n",
    "                   .to_frame()\n",
    "                   .sort_values(by ='number_of_casualties', ascending=False)\n",
    "                   )\n",
    "\n",
    "top10_authority.head(10)"
   ]
  },
  {
   "cell_type": "code",
   "execution_count": null,
   "id": "2afed6b7-952a-4b96-ae82-f7b45c575dab",
   "metadata": {},
   "outputs": [],
   "source": []
  },
  {
   "cell_type": "code",
   "execution_count": null,
   "id": "a068535b-1a15-44af-9b27-e495a3889638",
   "metadata": {},
   "outputs": [],
   "source": []
  }
 ],
 "metadata": {
  "kernelspec": {
   "display_name": "Python 3 (ipykernel)",
   "language": "python",
   "name": "python3"
  },
  "language_info": {
   "codemirror_mode": {
    "name": "ipython",
    "version": 3
   },
   "file_extension": ".py",
   "mimetype": "text/x-python",
   "name": "python",
   "nbconvert_exporter": "python",
   "pygments_lexer": "ipython3",
   "version": "3.12.4"
  }
 },
 "nbformat": 4,
 "nbformat_minor": 5
}
